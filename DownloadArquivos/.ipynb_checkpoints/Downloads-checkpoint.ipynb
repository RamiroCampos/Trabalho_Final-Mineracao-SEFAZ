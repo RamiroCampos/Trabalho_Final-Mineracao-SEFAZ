{
 "cells": [
  {
   "cell_type": "code",
   "execution_count": 1,
   "metadata": {},
   "outputs": [],
   "source": [
    "import os\n",
    "import wget\n",
    "\n",
    "path = './data'"
   ]
  },
  {
   "cell_type": "code",
   "execution_count": 2,
   "metadata": {},
   "outputs": [],
   "source": [
    "files = os.listdir(path)"
   ]
  },
  {
   "cell_type": "code",
   "execution_count": 3,
   "metadata": {},
   "outputs": [
    {
     "data": {
      "text/plain": [
       "['01 - C.F. de 1988 e CTN de 1966.txt',\n",
       " '02 - LEIS COMPLEMENTARES FEDERAIS.txt',\n",
       " '03 - LEIS COMPLEMENTARES ESTADUAIS.txt',\n",
       " '04 - LEIS (ICMS, IPVA, ITCD, TAXAS E CM).txt',\n",
       " '05 - LEIS ORDINÁRIAS.txt',\n",
       " '06 - DECRETOS (ICMS, ITCD, IPVA, TAXAS E CM).txt',\n",
       " '07 - DECRETOS.txt',\n",
       " '08 - INSTRUÇÕES NORMATIVAS.txt',\n",
       " '09 - NOTAS EXPLICATIVAS.txt',\n",
       " '10 - NORMAS DE EXECUÇÃO.txt',\n",
       " '11 - ATOS DECLARATÓRIOS.txt',\n",
       " '12 - RESOLUÇÕES.txt',\n",
       " '13 - OUTRAS NORMAS.txt',\n",
       " '14 - COMUNICADOS PÚBLICOS.txt']"
      ]
     },
     "execution_count": 3,
     "metadata": {},
     "output_type": "execute_result"
    }
   ],
   "source": [
    "files"
   ]
  },
  {
   "cell_type": "code",
   "execution_count": 4,
   "metadata": {},
   "outputs": [
    {
     "name": "stdout",
     "output_type": "stream",
     "text": [
      "3618\n"
     ]
    }
   ],
   "source": [
    "#Quantidade de links\n",
    "num = 0\n",
    "\n",
    "for file in files :\n",
    "    thefile = open(path + '/' + file)\n",
    "    \n",
    "    links = [x for x in thefile.readlines() if '-->' in x]\n",
    "    num +=len(links)\n",
    "print(num)\n"
   ]
  },
  {
   "cell_type": "code",
   "execution_count": 5,
   "metadata": {},
   "outputs": [],
   "source": [
    "def downloader_from_file (in_path,out_path,num):\n",
    "    files = os.listdir(in_path)\n",
    "    thisfile = open(in_path + '/' + files[num])\n",
    "    links = [x for x in thisfile.readlines() if '-->' in x]\n",
    "    \n",
    "    out = out_path + '/' + files[num].strip('.txt')\n",
    "    \n",
    "    if os.path.exists(out):\n",
    "        return 1\n",
    "    \n",
    "   \n",
    "    os.makedirs(out)    \n",
    "    \n",
    "    for link in links :\n",
    "        link = link.split('-->')[1].strip('\\n')\n",
    "        wget.download(link, out = out)\n",
    "        \n",
    "        \n",
    "    "
   ]
  },
  {
   "cell_type": "code",
   "execution_count": 9,
   "metadata": {},
   "outputs": [],
   "source": [
    "def download_ALL(in_path,out_path):\n",
    "    files = os.listdir(in_path)\n",
    "    num = len(files)\n",
    "    \n",
    "    for i in range (num):\n",
    "        downloader_from_file(in_path,out_path,i)"
   ]
  },
  {
   "cell_type": "code",
   "execution_count": 7,
   "metadata": {},
   "outputs": [],
   "source": [
    "out = './folders'\n",
    "downloader_from_file(path,out,0)"
   ]
  },
  {
   "cell_type": "code",
   "execution_count": 11,
   "metadata": {},
   "outputs": [],
   "source": [
    "download_ALL(path,out)"
   ]
  },
  {
   "cell_type": "code",
   "execution_count": 15,
   "metadata": {},
   "outputs": [
    {
     "name": "stdout",
     "output_type": "stream",
     "text": [
      "3618\n"
     ]
    }
   ],
   "source": [
    "path = './folders'\n",
    "folders = os.listdir(path)\n",
    "count = 0\n",
    "\n",
    "for i in range (len(folders)):\n",
    "    f_path = path + '/' + folders[i]\n",
    "    num_files = len(os.listdir(f_path))\n",
    "    count += num_files\n",
    "print(count)\n",
    "    "
   ]
  },
  {
   "cell_type": "code",
   "execution_count": 12,
   "metadata": {},
   "outputs": [],
   "source": [
    "path = './folders'\n",
    "folders = os.listdir(path)"
   ]
  },
  {
   "cell_type": "code",
   "execution_count": null,
   "metadata": {},
   "outputs": [],
   "source": []
  }
 ],
 "metadata": {
  "kernelspec": {
   "display_name": "Python 3",
   "language": "python",
   "name": "python3"
  },
  "language_info": {
   "codemirror_mode": {
    "name": "ipython",
    "version": 3
   },
   "file_extension": ".py",
   "mimetype": "text/x-python",
   "name": "python",
   "nbconvert_exporter": "python",
   "pygments_lexer": "ipython3",
   "version": "3.8.1"
  }
 },
 "nbformat": 4,
 "nbformat_minor": 4
}
