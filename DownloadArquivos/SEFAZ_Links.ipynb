{
 "cells": [
  {
   "cell_type": "code",
   "execution_count": 1,
   "metadata": {},
   "outputs": [],
   "source": [
    "from selenium import webdriver\n",
    "import numpy as np\n",
    "import os\n",
    "import shutil\n",
    "import time"
   ]
  },
  {
   "cell_type": "code",
   "execution_count": 2,
   "metadata": {},
   "outputs": [],
   "source": [
    "url = 'http://www2.sefaz.ce.gov.br/alfrescoPublic/br.com.alfresco.FormMain/FormMain.html'\n",
    "\n",
    "#Variavel que recebe as configuracoes do chrome\n",
    "options= webdriver.ChromeOptions()\n",
    "\n",
    "# Caminho para onde será baixado os dados\n",
    "path = r'C:\\Users\\willi\\Documents\\MineracaoSEFAZ\\data'\n",
    "\n",
    "#Pasta onde será realizado o download dos arquivos\n",
    "prefs = {'download.default_directory' : path,'directory_upgrade' : True}\n",
    "\n",
    "#Cria uma configuracao do chrome com a pasta de destino especificada para donwload\n",
    "options.add_experimental_option('prefs', prefs)"
   ]
  },
  {
   "cell_type": "code",
   "execution_count": 3,
   "metadata": {},
   "outputs": [],
   "source": [
    "# Inicializa o browser de teste\n",
    "# Coloque o caminho para onde está o seu driver do Chrome na variável abaixo\n",
    "pathDriver = 'D:/ChromeDriver/chromedriver'\n",
    "browser = webdriver.Chrome(pathDriver, options = options)\n",
    "\n",
    "#Abre o site da SEFAZ \n",
    "browser.get(url)"
   ]
  },
  {
   "cell_type": "code",
   "execution_count": 4,
   "metadata": {},
   "outputs": [],
   "source": [
    "def get_names(isRoot):\n",
    "    names = browser.find_elements_by_xpath(\"//td[@align = 'left']//div[@cellclipdiv = 'true']\")\n",
    "    names_content = [x.get_attribute('innerHTML').strip() for i,x in enumerate (names) if i%2==0]\n",
    "    names = [x for i,x in enumerate (names) if i%2==0]\n",
    "    \n",
    "    if isRoot == 1:\n",
    "        names = names[1:]\n",
    "        names_content = names_content[1:]\n",
    "    \n",
    "    return names,names_content\n",
    "    \n",
    "    \n",
    "def back(sleep = 1):\n",
    "    back = browser.find_element_by_xpath('//div[contains(text(), \"' + 'Retorna ao nível superior' + '\")]')\n",
    "    try:\n",
    "        \n",
    "        back.click()\n",
    "    except:\n",
    "        \n",
    "        back.location_once_scrolled_into_view\n",
    "        time.sleep(sleep)\n",
    "        back.click()\n",
    "    "
   ]
  },
  {
   "cell_type": "code",
   "execution_count": 5,
   "metadata": {},
   "outputs": [],
   "source": [
    "def downloader(isRoot = 0,path = '',file = 'null.txt'):\n",
    "    names,_ = get_names(isRoot)\n",
    "\n",
    "    num = len(names)\n",
    "    sleep = 1 + num/10 #valor para a volta\n",
    "    \n",
    "    if (num == 0) and (isRoot == 1): #Trata exceção de página vazia\n",
    "        back()\n",
    "    \n",
    "    for i in range (num):\n",
    "        names,names_content = get_names(isRoot)\n",
    "        name,name_content = names[i],names_content[i]\n",
    "        \n",
    "        if isRoot == 0:\n",
    "            file_name = path + '/' + name_content + '.txt'\n",
    "            \n",
    "            if os.path.exists(file_name):\n",
    "                continue\n",
    "                \n",
    "            file = open(file_name,'a')\n",
    "        else :\n",
    "            file = file \n",
    "            file.write('->' + name_content + '\\n')\n",
    "        \n",
    "        try:\n",
    "            name.click()\n",
    "            \n",
    "        except:\n",
    "            name.location_once_scrolled_into_view\n",
    "            time.sleep(2 + i/10)\n",
    "            name.click()\n",
    "            \n",
    "        time.sleep(2 + i/10) # Tempo para entrar na página \n",
    "        \n",
    "        search_downloads = search_downloads = browser.find_elements_by_name('download')\n",
    "        \n",
    "        if len(search_downloads) == 0:\n",
    "            downloader(isRoot = 1,file = file)\n",
    "        \n",
    "        else :\n",
    "            pdf_elems = browser.find_elements_by_xpath(\"//a[contains(@href,'www')]\")\n",
    "            pdf_links = [x.get_attribute('href').strip() for x in pdf_elems]\n",
    "            _,pdf_names = get_names(1)\n",
    "            \n",
    "            sleep = 1 + (len(pdf_links))/10 #valor para a volta\n",
    "            \n",
    "            for i in  range (len(pdf_links)) :\n",
    "                file.write(pdf_names[i] + '-->' + pdf_links[i] + '\\n')\n",
    "        \n",
    "        back(sleep = sleep)\n",
    "        \n",
    "        if isRoot == 0:\n",
    "            file.close()\n",
    "        \n",
    "        time.sleep(3) # Tempo para voltar para a páginas das pastas\n",
    "            \n",
    "        \n",
    "        "
   ]
  },
  {
   "cell_type": "code",
   "execution_count": 6,
   "metadata": {},
   "outputs": [],
   "source": [
    "downloader(path=path)"
   ]
  },
  {
   "cell_type": "code",
   "execution_count": null,
   "metadata": {},
   "outputs": [],
   "source": []
  }
 ],
 "metadata": {
  "kernelspec": {
   "display_name": "Python 3",
   "language": "python",
   "name": "python3"
  },
  "language_info": {
   "codemirror_mode": {
    "name": "ipython",
    "version": 3
   },
   "file_extension": ".py",
   "mimetype": "text/x-python",
   "name": "python",
   "nbconvert_exporter": "python",
   "pygments_lexer": "ipython3",
   "version": "3.8.1"
  }
 },
 "nbformat": 4,
 "nbformat_minor": 2
}
