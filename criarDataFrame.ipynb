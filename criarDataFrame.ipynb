{
 "cells": [
  {
   "cell_type": "code",
   "execution_count": null,
   "metadata": {},
   "outputs": [],
   "source": [
    "import pandas as pd\n",
    "import numpy as np\n",
    "import os\n",
    "\n",
    "import pdfplumber"
   ]
  },
  {
   "cell_type": "code",
   "execution_count": null,
   "metadata": {},
   "outputs": [],
   "source": [
    "def firstPage(pathFile):\n",
    "    file = pdfplumber.open(pathFile)\n",
    "    pageOne = file.pages[0]\n",
    "    return pageOne.extract_text()\n",
    "\n",
    "def allPages(pathFile):\n",
    "    file = pdfplumber.open(pathFile)\n",
    "    paginas = file.pages\n",
    "    completo = ''\n",
    "    for page in paginas:\n",
    "        completo += page.extract_text()\n",
    "    return completo"
   ]
  },
  {
   "cell_type": "code",
   "execution_count": null,
   "metadata": {},
   "outputs": [],
   "source": [
    "def readDir(pathDir,lista,label, onlyFirstPage = True):\n",
    "    print(pathDir)\n",
    "    for title in os.listdir(pathDir):\n",
    "        pathTarget = pathDir+'\\\\'+title\n",
    "        if(os.path.isdir(pathTarget)):\n",
    "            readDir(pathTarget,lista,label,onlyFirstPage)\n",
    "        elif(title[-4:]=='.pdf'):\n",
    "            print(title)\n",
    "            if(title == 'Decreto n° 27.865, de 2005.pdf'):\n",
    "                # este documento não consegue ser lido!!\n",
    "                continue\n",
    "            if(firstPage):\n",
    "                content = firstPage(pathTarget)\n",
    "            else:\n",
    "                content = allPages(pathTarget)\n",
    "            lista.append([title[:-4],content,label])"
   ]
  },
  {
   "cell_type": "code",
   "execution_count": null,
   "metadata": {},
   "outputs": [],
   "source": [
    "def createDF(dir = False, onlyFirstPage = True):\n",
    "    # se quiser pode passar o diretório que quiser\n",
    "    lista = []\n",
    "    if(dir==False):\n",
    "        dir = ''\n",
    "        for i in os.listdir():\n",
    "            if(i == '.ipynb_checkpoints'):\n",
    "                continue\n",
    "            if(os.path.isdir(i)):\n",
    "                print(i)\n",
    "                dir = '.\\\\'+i\n",
    "                break\n",
    "    for pasta in os.listdir(dir):\n",
    "        label = pasta\n",
    "        labelDir = dir+'\\\\'+pasta\n",
    "        if(os.path.isdir(labelDir)):        \n",
    "            readDir(labelDir,lista,label,firstPage)\n",
    "                \n",
    "    df = pd.DataFrame(lista,columns=['Title','Content', 'Label'])\n",
    "    return df"
   ]
  },
  {
   "cell_type": "markdown",
   "metadata": {},
   "source": [
    "# Coloque, em path, o caminho onde estão baixados os arquivos da SEFAZ.\n",
    "## Os nomes das pastas serão o Label do arquivo"
   ]
  },
  {
   "cell_type": "code",
   "execution_count": null,
   "metadata": {},
   "outputs": [],
   "source": [
    "path  = r'D:\\Eng.Comp\\2020\\2020.1\\Mineracao\\Trabalho_Final\\DocumentosAuto'\n",
    "path"
   ]
  },
  {
   "cell_type": "code",
   "execution_count": null,
   "metadata": {},
   "outputs": [],
   "source": [
    "df = createDF(path)"
   ]
  },
  {
   "cell_type": "code",
   "execution_count": null,
   "metadata": {},
   "outputs": [],
   "source": [
    "df.head(5)"
   ]
  },
  {
   "cell_type": "code",
   "execution_count": null,
   "metadata": {},
   "outputs": [],
   "source": [
    "df['Label'].value_counts().sort_index()"
   ]
  },
  {
   "cell_type": "code",
   "execution_count": null,
   "metadata": {},
   "outputs": [],
   "source": [
    "df['Title'].value_counts()"
   ]
  }
 ],
 "metadata": {
  "kernelspec": {
   "display_name": "Python 3",
   "language": "python",
   "name": "python3"
  },
  "language_info": {
   "codemirror_mode": {
    "name": "ipython",
    "version": 3
   },
   "file_extension": ".py",
   "mimetype": "text/x-python",
   "name": "python",
   "nbconvert_exporter": "python",
   "pygments_lexer": "ipython3",
   "version": "3.8.1"
  }
 },
 "nbformat": 4,
 "nbformat_minor": 4
}
