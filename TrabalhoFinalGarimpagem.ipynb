{
  "nbformat": 4,
  "nbformat_minor": 0,
  "metadata": {
    "colab": {
      "name": "TrabalhoFinalGarimpagem.ipynb",
      "provenance": [],
      "collapsed_sections": [],
      "toc_visible": true
    },
    "kernelspec": {
      "display_name": "Python 3",
      "name": "python3"
    }
  },
  "cells": [
    {
      "cell_type": "markdown",
      "metadata": {
        "id": "Cl2T9F3jYBor"
      },
      "source": [
        "# Projeto Final de Mineração - SEFAZ\n"
      ]
    },
    {
      "cell_type": "markdown",
      "metadata": {
        "id": "uEclOGTmri6A"
      },
      "source": [
        "## 1) Preparação do ambiente e importação das bibliotecas necessárias"
      ]
    },
    {
      "cell_type": "code",
      "metadata": {
        "id": "CIUT5fv_usy5",
        "outputId": "57571d2c-0a8b-4f54-ae12-7d1ca9994a18",
        "colab": {
          "base_uri": "https://localhost:8080/",
          "height": 35
        }
      },
      "source": [
        "from google.colab import drive\n",
        "drive.mount('/content/drive')"
      ],
      "execution_count": null,
      "outputs": [
        {
          "output_type": "stream",
          "text": [
            "Drive already mounted at /content/drive; to attempt to forcibly remount, call drive.mount(\"/content/drive\", force_remount=True).\n"
          ],
          "name": "stdout"
        }
      ]
    },
    {
      "cell_type": "code",
      "metadata": {
        "id": "COO9N0ejjQDs",
        "outputId": "2fda61b4-7fab-4147-fe1b-aae147cd986c",
        "colab": {
          "base_uri": "https://localhost:8080/",
          "height": 182
        }
      },
      "source": [
        "import sys\n",
        "sys.path.insert(1, '/content/drive/My Drive/TrabalhoFinal')\n",
        "import cleaner\n",
        "\n",
        "import multiprocessing as mp\n",
        "\n",
        "import numpy as np\n",
        "import pandas as pd\n",
        "import matplotlib as plt\n",
        "\n",
        "from sklearn.model_selection import train_test_split, cross_val_score\n",
        "from sklearn.feature_extraction.text import CountVectorizer, TfidfVectorizer\n",
        "from sklearn.naive_bayes import ComplementNB\n",
        "from sklearn.linear_model import LogisticRegression\n",
        "from sklearn import metrics\n",
        "\n",
        "import math\n",
        "import nltk\n",
        "from nltk.tokenize import word_tokenize\n",
        "from nltk.corpus import stopwords\n",
        "import re\n",
        "import string\n",
        "\n",
        "nltk.download('punkt')\n",
        "nltk.download('stopwords')"
      ],
      "execution_count": null,
      "outputs": [
        {
          "output_type": "stream",
          "text": [
            "[nltk_data] Downloading package punkt to /root/nltk_data...\n",
            "[nltk_data]   Package punkt is already up-to-date!\n",
            "[nltk_data] Downloading package stopwords to /root/nltk_data...\n",
            "[nltk_data]   Package stopwords is already up-to-date!\n",
            "[nltk_data] Downloading package punkt to /root/nltk_data...\n",
            "[nltk_data]   Package punkt is already up-to-date!\n",
            "[nltk_data] Downloading package stopwords to /root/nltk_data...\n",
            "[nltk_data]   Package stopwords is already up-to-date!\n"
          ],
          "name": "stdout"
        },
        {
          "output_type": "execute_result",
          "data": {
            "text/plain": [
              "True"
            ]
          },
          "metadata": {
            "tags": []
          },
          "execution_count": 2
        }
      ]
    },
    {
      "cell_type": "markdown",
      "metadata": {
        "id": "2Z1kolI4r2PY"
      },
      "source": [
        "## 2) Importação e análise inicial do dataset"
      ]
    },
    {
      "cell_type": "code",
      "metadata": {
        "id": "A7OJpF61ivhk",
        "outputId": "662092e9-d840-47d9-8fc6-92db998a5c3a",
        "colab": {
          "base_uri": "https://localhost:8080/",
          "height": 424
        }
      },
      "source": [
        "df = pd.read_csv('/content/drive/My Drive/TrabalhoFinal/ArquivosPrimeiraPagina.csv')\n",
        "df"
      ],
      "execution_count": null,
      "outputs": [
        {
          "output_type": "execute_result",
          "data": {
            "text/html": [
              "<div>\n",
              "<style scoped>\n",
              "    .dataframe tbody tr th:only-of-type {\n",
              "        vertical-align: middle;\n",
              "    }\n",
              "\n",
              "    .dataframe tbody tr th {\n",
              "        vertical-align: top;\n",
              "    }\n",
              "\n",
              "    .dataframe thead th {\n",
              "        text-align: right;\n",
              "    }\n",
              "</style>\n",
              "<table border=\"1\" class=\"dataframe\">\n",
              "  <thead>\n",
              "    <tr style=\"text-align: right;\">\n",
              "      <th></th>\n",
              "      <th>Title</th>\n",
              "      <th>Content</th>\n",
              "      <th>Label</th>\n",
              "    </tr>\n",
              "  </thead>\n",
              "  <tbody>\n",
              "    <tr>\n",
              "      <th>0</th>\n",
              "      <td>Ato Declaratorio nº 01, de 2013</td>\n",
              "      <td>\\n* Publicado no DOE em 01/02/2013\\nATO DECLA...</td>\n",
              "      <td>atos declaratorios</td>\n",
              "    </tr>\n",
              "    <tr>\n",
              "      <th>1</th>\n",
              "      <td>Ato Declaratorio nº 02, de 2013</td>\n",
              "      <td>\\n* Publicado no DOE em 01/02/2013\\nATO DECLA...</td>\n",
              "      <td>atos declaratorios</td>\n",
              "    </tr>\n",
              "    <tr>\n",
              "      <th>2</th>\n",
              "      <td>Ato Declaratório nº 01, de 1998</td>\n",
              "      <td>ATO DECLARATÓRIO Nº 01/1998\\n07/01/1998\\n* Pub...</td>\n",
              "      <td>atos declaratorios</td>\n",
              "    </tr>\n",
              "    <tr>\n",
              "      <th>3</th>\n",
              "      <td>Ato Declaratório nº 01, de 1999</td>\n",
              "      <td>ATO DECLARATÓRIO Nº 01/1999\\n14/01/1999\\n* Pub...</td>\n",
              "      <td>atos declaratorios</td>\n",
              "    </tr>\n",
              "    <tr>\n",
              "      <th>4</th>\n",
              "      <td>Ato Declaratório nº 01, de 2000</td>\n",
              "      <td>ATO DECLARATÓRIO Nº 01/2000\\n29/03/2000\\n* Pub...</td>\n",
              "      <td>atos declaratorios</td>\n",
              "    </tr>\n",
              "    <tr>\n",
              "      <th>...</th>\n",
              "      <td>...</td>\n",
              "      <td>...</td>\n",
              "      <td>...</td>\n",
              "    </tr>\n",
              "    <tr>\n",
              "      <th>3607</th>\n",
              "      <td>Resolução nº 1, de 2018</td>\n",
              "      <td>GOVERNO DO ESTADO DO CEARÁ\\nSecretaria da Faze...</td>\n",
              "      <td>resolucoes</td>\n",
              "    </tr>\n",
              "    <tr>\n",
              "      <th>3608</th>\n",
              "      <td>Resolução SEFAZ_SETUR nº 01, de 2019</td>\n",
              "      <td>GOVERNO DO \\nESTADO DO CEARÁ\\nSecretaria da Fa...</td>\n",
              "      <td>resolucoes</td>\n",
              "    </tr>\n",
              "    <tr>\n",
              "      <th>3609</th>\n",
              "      <td>Resolução SEFAZ_SETUR nº 02, de 2019</td>\n",
              "      <td>GOVERNO DO \\nESTADO DO CEARÁ\\nSecretaria da Fa...</td>\n",
              "      <td>resolucoes</td>\n",
              "    </tr>\n",
              "    <tr>\n",
              "      <th>3610</th>\n",
              "      <td>Resolução SEFAZ_SETUR nº 03, de 2019</td>\n",
              "      <td>GOVERNO DO \\nESTADO DO CEARÁ\\nSecretaria da Fa...</td>\n",
              "      <td>resolucoes</td>\n",
              "    </tr>\n",
              "    <tr>\n",
              "      <th>3611</th>\n",
              "      <td>Resolução SEFAZ_SETUR nº 04, de 2019</td>\n",
              "      <td>GOVERNO DO \\nESTADO DO CEARÁ\\nSecretaria da Fa...</td>\n",
              "      <td>resolucoes</td>\n",
              "    </tr>\n",
              "  </tbody>\n",
              "</table>\n",
              "<p>3612 rows × 3 columns</p>\n",
              "</div>"
            ],
            "text/plain": [
              "                                     Title  ...               Label\n",
              "0          Ato Declaratorio nº 01, de 2013  ...  atos declaratorios\n",
              "1          Ato Declaratorio nº 02, de 2013  ...  atos declaratorios\n",
              "2          Ato Declaratório nº 01, de 1998  ...  atos declaratorios\n",
              "3          Ato Declaratório nº 01, de 1999  ...  atos declaratorios\n",
              "4          Ato Declaratório nº 01, de 2000  ...  atos declaratorios\n",
              "...                                    ...  ...                 ...\n",
              "3607               Resolução nº 1, de 2018  ...          resolucoes\n",
              "3608  Resolução SEFAZ_SETUR nº 01, de 2019  ...          resolucoes\n",
              "3609  Resolução SEFAZ_SETUR nº 02, de 2019  ...          resolucoes\n",
              "3610  Resolução SEFAZ_SETUR nº 03, de 2019  ...          resolucoes\n",
              "3611  Resolução SEFAZ_SETUR nº 04, de 2019  ...          resolucoes\n",
              "\n",
              "[3612 rows x 3 columns]"
            ]
          },
          "metadata": {
            "tags": []
          },
          "execution_count": 3
        }
      ]
    },
    {
      "cell_type": "code",
      "metadata": {
        "id": "9Q4_1QX5swfZ",
        "outputId": "704826a2-1322-46f0-e144-0d52754e82aa",
        "colab": {
          "base_uri": "https://localhost:8080/",
          "height": 201
        }
      },
      "source": [
        "df.info()"
      ],
      "execution_count": null,
      "outputs": [
        {
          "output_type": "stream",
          "text": [
            "<class 'pandas.core.frame.DataFrame'>\n",
            "RangeIndex: 3612 entries, 0 to 3611\n",
            "Data columns (total 3 columns):\n",
            " #   Column   Non-Null Count  Dtype \n",
            "---  ------   --------------  ----- \n",
            " 0   Title    3612 non-null   object\n",
            " 1   Content  3611 non-null   object\n",
            " 2   Label    3612 non-null   object\n",
            "dtypes: object(3)\n",
            "memory usage: 84.8+ KB\n"
          ],
          "name": "stdout"
        }
      ]
    },
    {
      "cell_type": "code",
      "metadata": {
        "id": "c04LttNRxwKW",
        "outputId": "7dfd97c7-8945-4d2e-928f-72d8ef2e314d",
        "colab": {
          "base_uri": "https://localhost:8080/",
          "height": 237
        }
      },
      "source": [
        "df.groupby('Label')['Title'].count()"
      ],
      "execution_count": null,
      "outputs": [
        {
          "output_type": "execute_result",
          "data": {
            "text/plain": [
              "Label\n",
              "atos declaratorios     671\n",
              "cf e ctn                 2\n",
              "comunicados             11\n",
              "decretos              1020\n",
              "instrucoes            1373\n",
              "leis                   276\n",
              "normas                 118\n",
              "notas                   84\n",
              "outras normas           47\n",
              "resolucoes              10\n",
              "Name: Title, dtype: int64"
            ]
          },
          "metadata": {
            "tags": []
          },
          "execution_count": 5
        }
      ]
    },
    {
      "cell_type": "code",
      "metadata": {
        "id": "CX7djj02boNZ"
      },
      "source": [
        "TextoInicial = df['Content'][0]\n"
      ],
      "execution_count": null,
      "outputs": []
    },
    {
      "cell_type": "markdown",
      "metadata": {
        "id": "QNdNony6sQdH"
      },
      "source": [
        "## 3) Pré-processamento"
      ]
    },
    {
      "cell_type": "markdown",
      "metadata": {
        "id": "SS01ZIYKszsn"
      },
      "source": [
        "#### 3.1) Aplicação do pré-processamento\n",
        "Aqui, nós fazemos todos os textos da coluna \"Content\" do dataset serem minúsculos e removemos as pontuações, símbolos e números deles para facilitar a aplicação em um algoritmo de aprendizagem. Utilizando o método \"pool.map\", podemos dividir essa tarefa entre os núcleos da CPU para uma execução mais rápida."
      ]
    },
    {
      "cell_type": "code",
      "metadata": {
        "id": "iQvOLEkbuPXi"
      },
      "source": [
        "pool = mp.Pool()\n",
        "df['Content'] = pool.map(cleaner.clearText, df['Content'])"
      ],
      "execution_count": null,
      "outputs": []
    },
    {
      "cell_type": "markdown",
      "metadata": {
        "id": "uiwFQVDYchEt"
      },
      "source": [
        "### 3.2) Comparação entre o texto original e o pré-processado"
      ]
    },
    {
      "cell_type": "markdown",
      "metadata": {
        "id": "d1y8XZ99cuso"
      },
      "source": [
        "#### Texto original"
      ]
    },
    {
      "cell_type": "code",
      "metadata": {
        "id": "VyLf4Fmpb2MN",
        "outputId": "fc362838-a111-4985-c546-331b4e079d20",
        "colab": {
          "base_uri": "https://localhost:8080/",
          "height": 109
        }
      },
      "source": [
        "TextoInicial"
      ],
      "execution_count": null,
      "outputs": [
        {
          "output_type": "execute_result",
          "data": {
            "application/vnd.google.colaboratory.intrinsic+json": {
              "type": "string"
            },
            "text/plain": [
              "' \\n* Publicado no DOE em 01/02/2013\\nATO DECLARATÓRIO Nº  01 /2013\\nO SECRETÁRIO DA FAZENDA DO ESTADO DO CEARÁ, no uso de suas atribuições \\nlegais.\\nRESOLVE:\\n1. Revogar, a pedido do contribuinte, o Termo de Acordo FDI/PCDM nº 464, de 14 de \\nagosto de 2008, celebrado com a empresa TECNO INDÚSTRIA E COMÉRCIO DE \\nCOMPUTADORES LTDA, inscrita no CGF sob o  nº 06.358.939-7.\\n2. Este Ato Declaratório gera efeito a partir de 1º de fevereiro de 2013\\n3. Publique-se. Cumpra-se. Dê-se ciência à interessada.\\nSECRETARIO DA FAZENDA DO ESTADO DO CEARÁ, aos 28 de janeiro de 2013\\nCarlos Mauro Benevides Filho\\n  SECRETÁRIO DA FAZENDA '"
            ]
          },
          "metadata": {
            "tags": []
          },
          "execution_count": 8
        }
      ]
    },
    {
      "cell_type": "markdown",
      "metadata": {
        "id": "Ct2BEkEXcxjs"
      },
      "source": [
        "#### Texto após pré-processamento"
      ]
    },
    {
      "cell_type": "code",
      "metadata": {
        "id": "2XCLyC8q74Hu",
        "outputId": "2a220823-a444-493d-94d0-35fe2924ff8f",
        "colab": {
          "base_uri": "https://localhost:8080/",
          "height": 72
        }
      },
      "source": [
        "df['Content'][1]"
      ],
      "execution_count": null,
      "outputs": [
        {
          "output_type": "execute_result",
          "data": {
            "application/vnd.google.colaboratory.intrinsic+json": {
              "type": "string"
            },
            "text/plain": [
              "'publicado doe ato declaratório secretário fazenda estado ceará uso atribuições legais resolve revogar pedido contribuinte termo acordo fdi pcdm outubro celebrado empresa tecno indústria comércio computadores ltda inscrita cgf sob ato declaratório gera efeito partir fevereiro publique-se cumpra-se dê-se ciência interessada secretario fazenda estado ceará janeiro carlos mauro benevides filho secretário fazenda'"
            ]
          },
          "metadata": {
            "tags": []
          },
          "execution_count": 9
        }
      ]
    },
    {
      "cell_type": "markdown",
      "metadata": {
        "id": "-cfS43VUK_Qh"
      },
      "source": [
        "### 3.3) Adição da coluna Class com o número das classes\n",
        "Por fim, para podermos aplicar o dataset no modelo de aprendizagem, precisamos, também, de uma coluna que relaciona o nome da classe com um número. O código abaixo faz exatamente isso."
      ]
    },
    {
      "cell_type": "code",
      "metadata": {
        "id": "O9y0Jvhr0Yoe"
      },
      "source": [
        "dicClassToLabel = {}\n",
        "dicLabelToClass = {}\n",
        "nClass = 0\n",
        "\n",
        "labels = df[\"Label\"].unique()\n",
        "\n",
        "for i in labels:\n",
        "    if i not in dicClassToLabel:\n",
        "        dicClassToLabel[i] = nClass\n",
        "        dicLabelToClass[nClass] = i\n",
        "        nClass += 1\n",
        "      \n",
        "def toLabel(x):\n",
        "    return dicClassToLabel[x]"
      ],
      "execution_count": null,
      "outputs": []
    },
    {
      "cell_type": "code",
      "metadata": {
        "id": "e_Ccro03LoGD",
        "outputId": "0a4973cf-46d9-4fd2-bd4d-e6d81caef4cc",
        "colab": {
          "base_uri": "https://localhost:8080/",
          "height": 424
        }
      },
      "source": [
        "df[\"Class\"] = df[\"Label\"].map(toLabel)\n",
        "df"
      ],
      "execution_count": null,
      "outputs": [
        {
          "output_type": "execute_result",
          "data": {
            "text/html": [
              "<div>\n",
              "<style scoped>\n",
              "    .dataframe tbody tr th:only-of-type {\n",
              "        vertical-align: middle;\n",
              "    }\n",
              "\n",
              "    .dataframe tbody tr th {\n",
              "        vertical-align: top;\n",
              "    }\n",
              "\n",
              "    .dataframe thead th {\n",
              "        text-align: right;\n",
              "    }\n",
              "</style>\n",
              "<table border=\"1\" class=\"dataframe\">\n",
              "  <thead>\n",
              "    <tr style=\"text-align: right;\">\n",
              "      <th></th>\n",
              "      <th>Title</th>\n",
              "      <th>Content</th>\n",
              "      <th>Label</th>\n",
              "      <th>Class</th>\n",
              "    </tr>\n",
              "  </thead>\n",
              "  <tbody>\n",
              "    <tr>\n",
              "      <th>0</th>\n",
              "      <td>Ato Declaratorio nº 01, de 2013</td>\n",
              "      <td>publicado doe ato declaratório secretário faze...</td>\n",
              "      <td>atos declaratorios</td>\n",
              "      <td>0</td>\n",
              "    </tr>\n",
              "    <tr>\n",
              "      <th>1</th>\n",
              "      <td>Ato Declaratorio nº 02, de 2013</td>\n",
              "      <td>publicado doe ato declaratório secretário faze...</td>\n",
              "      <td>atos declaratorios</td>\n",
              "      <td>0</td>\n",
              "    </tr>\n",
              "    <tr>\n",
              "      <th>2</th>\n",
              "      <td>Ato Declaratório nº 01, de 1998</td>\n",
              "      <td>ato declaratório publicado doe secretário faze...</td>\n",
              "      <td>atos declaratorios</td>\n",
              "      <td>0</td>\n",
              "    </tr>\n",
              "    <tr>\n",
              "      <th>3</th>\n",
              "      <td>Ato Declaratório nº 01, de 1999</td>\n",
              "      <td>ato declaratório publicado doe secretário faze...</td>\n",
              "      <td>atos declaratorios</td>\n",
              "      <td>0</td>\n",
              "    </tr>\n",
              "    <tr>\n",
              "      <th>4</th>\n",
              "      <td>Ato Declaratório nº 01, de 2000</td>\n",
              "      <td>ato declaratório publicado doe secretário faze...</td>\n",
              "      <td>atos declaratorios</td>\n",
              "      <td>0</td>\n",
              "    </tr>\n",
              "    <tr>\n",
              "      <th>...</th>\n",
              "      <td>...</td>\n",
              "      <td>...</td>\n",
              "      <td>...</td>\n",
              "      <td>...</td>\n",
              "    </tr>\n",
              "    <tr>\n",
              "      <th>3607</th>\n",
              "      <td>Resolução nº 1, de 2018</td>\n",
              "      <td>governo estado ceará secretaria fazenda secret...</td>\n",
              "      <td>resolucoes</td>\n",
              "      <td>9</td>\n",
              "    </tr>\n",
              "    <tr>\n",
              "      <th>3608</th>\n",
              "      <td>Resolução SEFAZ_SETUR nº 01, de 2019</td>\n",
              "      <td>governo estado ceará secretaria fazenda secret...</td>\n",
              "      <td>resolucoes</td>\n",
              "      <td>9</td>\n",
              "    </tr>\n",
              "    <tr>\n",
              "      <th>3609</th>\n",
              "      <td>Resolução SEFAZ_SETUR nº 02, de 2019</td>\n",
              "      <td>governo estado ceará secretaria fazenda secret...</td>\n",
              "      <td>resolucoes</td>\n",
              "      <td>9</td>\n",
              "    </tr>\n",
              "    <tr>\n",
              "      <th>3610</th>\n",
              "      <td>Resolução SEFAZ_SETUR nº 03, de 2019</td>\n",
              "      <td>governo estado ceará secretaria fazenda secret...</td>\n",
              "      <td>resolucoes</td>\n",
              "      <td>9</td>\n",
              "    </tr>\n",
              "    <tr>\n",
              "      <th>3611</th>\n",
              "      <td>Resolução SEFAZ_SETUR nº 04, de 2019</td>\n",
              "      <td>governo estado ceará secretaria fazenda secret...</td>\n",
              "      <td>resolucoes</td>\n",
              "      <td>9</td>\n",
              "    </tr>\n",
              "  </tbody>\n",
              "</table>\n",
              "<p>3612 rows × 4 columns</p>\n",
              "</div>"
            ],
            "text/plain": [
              "                                     Title  ... Class\n",
              "0          Ato Declaratorio nº 01, de 2013  ...     0\n",
              "1          Ato Declaratorio nº 02, de 2013  ...     0\n",
              "2          Ato Declaratório nº 01, de 1998  ...     0\n",
              "3          Ato Declaratório nº 01, de 1999  ...     0\n",
              "4          Ato Declaratório nº 01, de 2000  ...     0\n",
              "...                                    ...  ...   ...\n",
              "3607               Resolução nº 1, de 2018  ...     9\n",
              "3608  Resolução SEFAZ_SETUR nº 01, de 2019  ...     9\n",
              "3609  Resolução SEFAZ_SETUR nº 02, de 2019  ...     9\n",
              "3610  Resolução SEFAZ_SETUR nº 03, de 2019  ...     9\n",
              "3611  Resolução SEFAZ_SETUR nº 04, de 2019  ...     9\n",
              "\n",
              "[3612 rows x 4 columns]"
            ]
          },
          "metadata": {
            "tags": []
          },
          "execution_count": 11
        }
      ]
    },
    {
      "cell_type": "markdown",
      "metadata": {
        "id": "b4hjlzuFwpbH"
      },
      "source": [
        "### 3.4) Salvando o dataset modificado"
      ]
    },
    {
      "cell_type": "code",
      "metadata": {
        "id": "YIMwxzfp-_Z4"
      },
      "source": [
        "df.to_csv('/content/drive/My Drive/TrabalhoFinal/ArquivosProcessados.csv')"
      ],
      "execution_count": null,
      "outputs": []
    },
    {
      "cell_type": "markdown",
      "metadata": {
        "id": "1f-noLjuiTwo"
      },
      "source": [
        "## 4) Aplicação do dataset no modelo Complement Naive Bayes"
      ]
    },
    {
      "cell_type": "markdown",
      "metadata": {
        "id": "7-o7GJZiimGI"
      },
      "source": [
        "### 4.1) Separação do dataset em treino e teste"
      ]
    },
    {
      "cell_type": "code",
      "metadata": {
        "id": "4D86mLrdibQQ"
      },
      "source": [
        "treino, teste = train_test_split(df, train_size=0.75)"
      ],
      "execution_count": null,
      "outputs": []
    },
    {
      "cell_type": "markdown",
      "metadata": {
        "id": "WtU6t6Blip6X"
      },
      "source": [
        "### 4.2) Vetorização da coluna \"Content\" utilizando tanto \"CountVectorizer\" como \"TfidfVectorizer\" para comparação"
      ]
    },
    {
      "cell_type": "code",
      "metadata": {
        "id": "T4AA3nFjidJf"
      },
      "source": [
        "v_1 = CountVectorizer()\n",
        "X_treino_1 = v_1.fit_transform(treino[\"Content\"])\n",
        "\n",
        "v_2 = TfidfVectorizer()\n",
        "X_treino_2 = v_2.fit_transform(treino[\"Content\"])"
      ],
      "execution_count": null,
      "outputs": []
    },
    {
      "cell_type": "markdown",
      "metadata": {
        "id": "C5jVPbIkjGmW"
      },
      "source": [
        "### 4.3) Aplicação do dataset de treino no modelo"
      ]
    },
    {
      "cell_type": "code",
      "metadata": {
        "id": "uXXqAq-iieKP"
      },
      "source": [
        "modelo_1 = ComplementNB().fit(X_treino_1, treino[\"Class\"])\n",
        "\n",
        "modelo_2 = ComplementNB().fit(X_treino_2, treino[\"Class\"])"
      ],
      "execution_count": null,
      "outputs": []
    },
    {
      "cell_type": "markdown",
      "metadata": {
        "id": "pACXfd5ujNrP"
      },
      "source": [
        "### 4.4) Aplicação do dataset de teste no modelo"
      ]
    },
    {
      "cell_type": "code",
      "metadata": {
        "id": "tEsBhwunifxI"
      },
      "source": [
        "X_teste_1 = v_1.transform(teste[\"Content\"])\n",
        "X_teste_2 = v_2.transform(teste[\"Content\"])\n",
        "\n",
        "p_1 = modelo_1.predict(X_teste_1)\n",
        "p_2 = modelo_2.predict(X_teste_2)"
      ],
      "execution_count": null,
      "outputs": []
    },
    {
      "cell_type": "markdown",
      "metadata": {
        "id": "NovgZ2mhjUFe"
      },
      "source": [
        "### 4.5) Verificação da precisão, da matriz de confusão e da cross validation"
      ]
    },
    {
      "cell_type": "code",
      "metadata": {
        "id": "BQPzxejNihIH",
        "outputId": "df2f7601-05ec-4ebc-a429-b5274000b975",
        "colab": {
          "base_uri": "https://localhost:8080/",
          "height": 54
        }
      },
      "source": [
        "print(\"Precisão do modelo_1:\", ((p_1 == teste[\"Class\"]).sum() / len(p_1)) * 100, \"%\")\n",
        "print(\"Precisão do modelo_2:\", ((p_2 == teste[\"Class\"]).sum() / len(p_2)) * 100, \"%\")"
      ],
      "execution_count": null,
      "outputs": [
        {
          "output_type": "stream",
          "text": [
            "Precisão do modelo_1: 94.46290143964563 %\n",
            "Precisão do modelo_2: 89.59025470653378 %\n"
          ],
          "name": "stdout"
        }
      ]
    },
    {
      "cell_type": "code",
      "metadata": {
        "id": "jCQucSqOihth",
        "outputId": "63be175d-5199-4b2c-cd06-a687c98f5625",
        "colab": {
          "base_uri": "https://localhost:8080/",
          "height": 384
        }
      },
      "source": [
        "print(metrics.confusion_matrix(teste[\"Class\"], p_1))\n",
        "print(metrics.confusion_matrix(teste[\"Class\"], p_2))"
      ],
      "execution_count": null,
      "outputs": [
        {
          "output_type": "stream",
          "text": [
            "[[171   0   0   0   0   0   0   0   0   0]\n",
            " [  0   0   0   0   0   1   0   0   0   0]\n",
            " [  1   0   0   0   0   0   0   0   0   0]\n",
            " [  1   0   0 230   5   2   0   0   0   0]\n",
            " [  1   0   0  10 346   0   0   0   0   0]\n",
            " [  0   0   0   5   2  62   0   0   1   0]\n",
            " [  0   0   0   0   6   0  24   0   1   0]\n",
            " [  1   0   0   4   0   1   0  15   0   0]\n",
            " [  0   0   0   4   0   4   0   0   3   0]\n",
            " [  0   0   0   0   0   0   0   0   0   2]]\n",
            "[[171   0   0   0   0   0   0   0   0   0]\n",
            " [  0   0   0   0   0   1   0   0   0   0]\n",
            " [  1   0   0   0   0   0   0   0   0   0]\n",
            " [  1   0   0 223  14   0   0   0   0   0]\n",
            " [  1   0   0   9 347   0   0   0   0   0]\n",
            " [  0   0   0  18   5  46   0   0   1   0]\n",
            " [  0   0   0   3  13   0  14   0   1   0]\n",
            " [  5   0   0  10   1   0   0   5   0   0]\n",
            " [  0   0   0   7   1   2   0   0   1   0]\n",
            " [  0   0   0   0   0   0   0   0   0   2]]\n"
          ],
          "name": "stdout"
        }
      ]
    },
    {
      "cell_type": "code",
      "metadata": {
        "id": "sPOKnk2WrMUk",
        "outputId": "88d4b13a-359c-4537-ca73-9476dc79d68f",
        "colab": {
          "base_uri": "https://localhost:8080/",
          "height": 147
        }
      },
      "source": [
        "cNB = ComplementNB()\n",
        "scores_1 = cross_val_score(cNB, CountVectorizer().fit_transform(treino[\"Content\"]), treino[\"Class\"], cv=5)\n",
        "scores_2 = cross_val_score(cNB, TfidfVectorizer().fit_transform(treino[\"Content\"]), treino[\"Class\"], cv=5)\n",
        "\n",
        "print(\"Média da Cross Validation com CountVectorizer:\", scores_1.mean() * 100, \"%\")\n",
        "print(\"Média da Cross Validation com TfidfVectorizer:\", scores_2.mean() * 100, \"%\")"
      ],
      "execution_count": null,
      "outputs": [
        {
          "output_type": "stream",
          "text": [
            "/usr/local/lib/python3.6/dist-packages/sklearn/model_selection/_split.py:667: UserWarning: The least populated class in y has only 1 members, which is less than n_splits=5.\n",
            "  % (min_groups, self.n_splits)), UserWarning)\n"
          ],
          "name": "stderr"
        },
        {
          "output_type": "stream",
          "text": [
            "Média da Cross Validation com CountVectorizer: 93.76151857636876 %\n",
            "Média da Cross Validation com TfidfVectorizer: 89.55310310958933 %\n"
          ],
          "name": "stdout"
        },
        {
          "output_type": "stream",
          "text": [
            "/usr/local/lib/python3.6/dist-packages/sklearn/model_selection/_split.py:667: UserWarning: The least populated class in y has only 1 members, which is less than n_splits=5.\n",
            "  % (min_groups, self.n_splits)), UserWarning)\n"
          ],
          "name": "stderr"
        }
      ]
    },
    {
      "cell_type": "markdown",
      "metadata": {
        "id": "MTgtN525Mjzb"
      },
      "source": [
        "## 5) Aplicação do dataset de treino em uma cross validation com o modelo de Regressão Logística\n"
      ]
    },
    {
      "cell_type": "code",
      "metadata": {
        "id": "-iuUpVc8MvmU",
        "outputId": "46b2a2df-4331-4f6f-9ed2-bda466207b27",
        "colab": {
          "base_uri": "https://localhost:8080/",
          "height": 882
        }
      },
      "source": [
        "from sklearn.linear_model import LogisticRegression\n",
        "\n",
        "lr = LogisticRegression()\n",
        "scores_1 = cross_val_score(lr, CountVectorizer().fit_transform(treino[\"Content\"]), treino[\"Class\"], cv=5)\n",
        "scores_2 = cross_val_score(lr, TfidfVectorizer().fit_transform(treino[\"Content\"]), treino[\"Class\"], cv=5)\n",
        "\n",
        "print(\"Média da Cross Validation com CountVectorizer:\", scores_1.mean() * 100, \"%\")\n",
        "print(\"Média da Cross Validation com TfidfVectorizer:\", scores_2.mean() * 100, \"%\")"
      ],
      "execution_count": null,
      "outputs": [
        {
          "output_type": "stream",
          "text": [
            "/usr/local/lib/python3.6/dist-packages/sklearn/model_selection/_split.py:667: UserWarning: The least populated class in y has only 1 members, which is less than n_splits=5.\n",
            "  % (min_groups, self.n_splits)), UserWarning)\n",
            "/usr/local/lib/python3.6/dist-packages/sklearn/linear_model/_logistic.py:940: ConvergenceWarning: lbfgs failed to converge (status=1):\n",
            "STOP: TOTAL NO. of ITERATIONS REACHED LIMIT.\n",
            "\n",
            "Increase the number of iterations (max_iter) or scale the data as shown in:\n",
            "    https://scikit-learn.org/stable/modules/preprocessing.html\n",
            "Please also refer to the documentation for alternative solver options:\n",
            "    https://scikit-learn.org/stable/modules/linear_model.html#logistic-regression\n",
            "  extra_warning_msg=_LOGISTIC_SOLVER_CONVERGENCE_MSG)\n",
            "/usr/local/lib/python3.6/dist-packages/sklearn/linear_model/_logistic.py:940: ConvergenceWarning: lbfgs failed to converge (status=1):\n",
            "STOP: TOTAL NO. of ITERATIONS REACHED LIMIT.\n",
            "\n",
            "Increase the number of iterations (max_iter) or scale the data as shown in:\n",
            "    https://scikit-learn.org/stable/modules/preprocessing.html\n",
            "Please also refer to the documentation for alternative solver options:\n",
            "    https://scikit-learn.org/stable/modules/linear_model.html#logistic-regression\n",
            "  extra_warning_msg=_LOGISTIC_SOLVER_CONVERGENCE_MSG)\n",
            "/usr/local/lib/python3.6/dist-packages/sklearn/linear_model/_logistic.py:940: ConvergenceWarning: lbfgs failed to converge (status=1):\n",
            "STOP: TOTAL NO. of ITERATIONS REACHED LIMIT.\n",
            "\n",
            "Increase the number of iterations (max_iter) or scale the data as shown in:\n",
            "    https://scikit-learn.org/stable/modules/preprocessing.html\n",
            "Please also refer to the documentation for alternative solver options:\n",
            "    https://scikit-learn.org/stable/modules/linear_model.html#logistic-regression\n",
            "  extra_warning_msg=_LOGISTIC_SOLVER_CONVERGENCE_MSG)\n",
            "/usr/local/lib/python3.6/dist-packages/sklearn/linear_model/_logistic.py:940: ConvergenceWarning: lbfgs failed to converge (status=1):\n",
            "STOP: TOTAL NO. of ITERATIONS REACHED LIMIT.\n",
            "\n",
            "Increase the number of iterations (max_iter) or scale the data as shown in:\n",
            "    https://scikit-learn.org/stable/modules/preprocessing.html\n",
            "Please also refer to the documentation for alternative solver options:\n",
            "    https://scikit-learn.org/stable/modules/linear_model.html#logistic-regression\n",
            "  extra_warning_msg=_LOGISTIC_SOLVER_CONVERGENCE_MSG)\n",
            "/usr/local/lib/python3.6/dist-packages/sklearn/linear_model/_logistic.py:940: ConvergenceWarning: lbfgs failed to converge (status=1):\n",
            "STOP: TOTAL NO. of ITERATIONS REACHED LIMIT.\n",
            "\n",
            "Increase the number of iterations (max_iter) or scale the data as shown in:\n",
            "    https://scikit-learn.org/stable/modules/preprocessing.html\n",
            "Please also refer to the documentation for alternative solver options:\n",
            "    https://scikit-learn.org/stable/modules/linear_model.html#logistic-regression\n",
            "  extra_warning_msg=_LOGISTIC_SOLVER_CONVERGENCE_MSG)\n",
            "/usr/local/lib/python3.6/dist-packages/sklearn/model_selection/_split.py:667: UserWarning: The least populated class in y has only 1 members, which is less than n_splits=5.\n",
            "  % (min_groups, self.n_splits)), UserWarning)\n"
          ],
          "name": "stderr"
        },
        {
          "output_type": "stream",
          "text": [
            "Média da Cross Validation com CountVectorizer: 97.5639617764015 %\n",
            "Média da Cross Validation com TfidfVectorizer: 93.65054463853326 %\n"
          ],
          "name": "stdout"
        }
      ]
    }
  ]
}